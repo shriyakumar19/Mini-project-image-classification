{
  "nbformat": 4,
  "nbformat_minor": 0,
  "metadata": {
    "colab": {
      "name": "mini projecT.ipynb",
      "provenance": [],
      "collapsed_sections": [],
      "mount_file_id": "19lnflgQekbVvlAlpuf4gkZMNDCoF9iud",
      "authorship_tag": "ABX9TyP95xLiLDYi4w/xYDuQjnhG",
      "include_colab_link": true
    },
    "kernelspec": {
      "name": "python3",
      "display_name": "Python 3"
    }
  },
  "cells": [
    {
      "cell_type": "markdown",
      "metadata": {
        "id": "view-in-github",
        "colab_type": "text"
      },
      "source": [
        "<a href=\"https://colab.research.google.com/github/shriyakumar19/Mini-project-image-classification/blob/master/mini_projecT.ipynb\" target=\"_parent\"><img src=\"https://colab.research.google.com/assets/colab-badge.svg\" alt=\"Open In Colab\"/></a>"
      ]
    },
    {
      "cell_type": "code",
      "metadata": {
        "id": "RN7VVuk8ZeyC",
        "colab_type": "code",
        "colab": {
          "base_uri": "https://localhost:8080/",
          "height": 104
        },
        "outputId": "2fdf8baa-b4e3-4887-9059-9b8e5ccef0f3"
      },
      "source": [
        "!pip install bing-image-downloader"
      ],
      "execution_count": null,
      "outputs": [
        {
          "output_type": "stream",
          "text": [
            "Collecting bing-image-downloader\n",
            "  Downloading https://files.pythonhosted.org/packages/0d/bf/537a61030b84ae4cd5022d5c7b014fd9bc3ce7c02358919153a6658a61d3/bing_image_downloader-1.0.4-py3-none-any.whl\n",
            "Installing collected packages: bing-image-downloader\n",
            "Successfully installed bing-image-downloader-1.0.4\n"
          ],
          "name": "stdout"
        }
      ]
    },
    {
      "cell_type": "code",
      "metadata": {
        "id": "_ZAxyHxDaLE5",
        "colab_type": "code",
        "colab": {
          "base_uri": "https://localhost:8080/",
          "height": 34
        },
        "outputId": "27acc021-a6a5-4db0-fe8d-86397ffe5fff"
      },
      "source": [
        "cd /content/drive/My Drive"
      ],
      "execution_count": null,
      "outputs": [
        {
          "output_type": "stream",
          "text": [
            "/content/drive/My Drive\n"
          ],
          "name": "stdout"
        }
      ]
    },
    {
      "cell_type": "code",
      "metadata": {
        "id": "Lq_Vk7ghaPlB",
        "colab_type": "code",
        "colab": {}
      },
      "source": [
        "!mkdir images"
      ],
      "execution_count": null,
      "outputs": []
    },
    {
      "cell_type": "code",
      "metadata": {
        "id": "yYQXJvGeaUMO",
        "colab_type": "code",
        "colab": {
          "base_uri": "https://localhost:8080/",
          "height": 34
        },
        "outputId": "ec67266b-5a5d-4be4-f8d3-7fe092acf89d"
      },
      "source": [
        "cd images"
      ],
      "execution_count": null,
      "outputs": [
        {
          "output_type": "stream",
          "text": [
            "/content/drive/My Drive/images\n"
          ],
          "name": "stdout"
        }
      ]
    },
    {
      "cell_type": "code",
      "metadata": {
        "id": "d42D79QEacdW",
        "colab_type": "code",
        "colab": {
          "base_uri": "https://localhost:8080/",
          "height": 1000
        },
        "outputId": "e28fd243-1ef9-4886-c2f4-ef38a2495265"
      },
      "source": [
        "from bing_image_downloader import downloader\n",
        "downloader.download(\"apple fruit\",limit = 20, output_dir = 'images')"
      ],
      "execution_count": null,
      "outputs": [
        {
          "output_type": "stream",
          "text": [
            "\n",
            "\n",
            "[!!]Indexing page: 1\n",
            "\n",
            "[%] Indexed 20 Images on Page 1.\n",
            "\n",
            "===============================================\n",
            "\n",
            "[%] Downloading Image #1 from https://dairyfoodblog.files.wordpress.com/2017/08/apple4.jpg\n",
            "[%] File Downloaded !\n",
            "\n",
            "[%] Downloading Image #2 from https://images-na.ssl-images-amazon.com/images/G/01/aplusautomation/vendorimages/721160cb-2b59-4dbd-9d87-ff9c07452fff.jpg._CB522065791_.jpg\n",
            "[%] File Downloaded !\n",
            "\n",
            "[%] Downloading Image #3 from http://aggie-horticulture.tamu.edu/vegetable/files/2011/10/apple26.jpg\n",
            "[%] File Downloaded !\n",
            "\n",
            "[%] Downloading Image #4 from http://2.bp.blogspot.com/-M_Vmb930MtQ/T7pF_Pyx5bI/AAAAAAAABMM/Q_VtD-ILbig/s1600/apple2.jpg\n",
            "[%] File Downloaded !\n",
            "\n",
            "[%] Downloading Image #5 from https://media.istockphoto.com/photos/red-apple-picture-id186843005?k=6&amp;m=186843005&amp;s=612x612&amp;w=0&amp;h=BmOanZ9Cq3NQBcfNzu3C7kIAWW7wLxTbOvyFtmeJDpU=\n",
            "[%] File Downloaded !\n",
            "\n",
            "[%] Downloading Image #6 from https://www.chhajedgarden.com/media/catalog/product/cache/1/image/9df78eab33525d08d6e5fb8d27136e95/0/4/04_apples.jpg\n",
            "[%] File Downloaded !\n",
            "\n",
            "[%] Downloading Image #7 from https://i.pinimg.com/originals/d2/e2/e6/d2e2e62bc22bead43c8e20aeac029593.jpg\n",
            "[%] File Downloaded !\n",
            "\n",
            "[%] Downloading Image #8 from https://thumbs.dreamstime.com/z/red-apple-fruit-leaf-isolated-39394737.jpg\n",
            "[%] File Downloaded !\n",
            "\n",
            "[%] Downloading Image #9 from https://upload.wikimedia.org/wikipedia/commons/thumb/f/f4/Honeycrisp.jpg/1200px-Honeycrisp.jpg\n",
            "[Error]Invalid image, not saving https://upload.wikimedia.org/wikipedia/commons/thumb/f/f4/Honeycrisp.jpg/1200px-Honeycrisp.jpg\n",
            "\n",
            "[!] Issue getting: https://upload.wikimedia.org/wikipedia/commons/thumb/f/f4/Honeycrisp.jpg/1200px-Honeycrisp.jpg\n",
            "[!] Error:: No active exception to reraise\n",
            "[%] Downloading Image #9 from http://1.bp.blogspot.com/-sm2PC8KW-l4/UDP7Z4Mz80I/AAAAAAAAB6g/j91oeuESMcs/s1600/apple.jpg\n",
            "[%] File Downloaded !\n",
            "\n",
            "[%] Downloading Image #10 from https://thumbs.dreamstime.com/z/red-apple-fruit-leaf-white-background-44829591.jpg\n",
            "[%] File Downloaded !\n",
            "\n",
            "[%] Downloading Image #11 from https://cdn.pixabay.com/photo/2016/09/20/07/25/food-1681977_960_720.png\n",
            "[%] File Downloaded !\n",
            "\n",
            "[%] Downloading Image #12 from https://i.pinimg.com/originals/d9/68/c2/d968c2fe95629e238b04ee34599c5013.jpg\n",
            "[%] File Downloaded !\n",
            "\n",
            "[%] Downloading Image #13 from https://oneflowyogastudio.com/wp-content/uploads/2019/01/Apple-fruit.jpg\n",
            "[%] File Downloaded !\n",
            "\n",
            "[%] Downloading Image #14 from http://3.bp.blogspot.com/-KvKsifQ2zGo/UJxIdXuEXTI/AAAAAAAAJho/oaCNMcTp4g0/s1600/apple+photo+sue3355.tistory.com+no+credit.jpg\n",
            "[%] File Downloaded !\n",
            "\n",
            "[%] Downloading Image #15 from https://www.theayurveda.org/wp-content/uploads/2015/08/Apple-fruit.jpg\n",
            "[%] File Downloaded !\n",
            "\n",
            "[%] Downloading Image #16 from http://treefruit.wsu.edu/wp-content/uploads/2014/10/clonal-apples.jpg\n",
            "[%] File Downloaded !\n",
            "\n",
            "[%] Downloading Image #17 from https://5.imimg.com/data5/YY/EN/MY-8155364/fresh-apple-500x500.jpg\n",
            "[%] File Downloaded !\n",
            "\n",
            "[%] Downloading Image #18 from https://upload.wikimedia.org/wikipedia/commons/0/07/Honeycrisp-Apple.jpg\n",
            "[%] File Downloaded !\n",
            "\n",
            "[%] Downloading Image #19 from http://fruitmaven.com/wp-content/gallery/arkansas-black-apple/arkansas-black-apple-whole2.jpg\n",
            "[%] File Downloaded !\n",
            "\n",
            "\n",
            "\n",
            "[!!]Indexing page: 2\n",
            "\n",
            "[%] Indexed 35 Images on Page 2.\n",
            "\n",
            "===============================================\n",
            "\n",
            "[%] Downloading Image #20 from https://dairyfoodblog.files.wordpress.com/2017/08/apple4.jpg\n",
            "[%] File Downloaded !\n",
            "\n",
            "\n",
            "\n",
            "[%] Done. Downloaded 20 images.\n",
            "\n",
            "===============================================\n",
            "\n"
          ],
          "name": "stdout"
        }
      ]
    },
    {
      "cell_type": "code",
      "metadata": {
        "id": "aGhnp4m2ayUO",
        "colab_type": "code",
        "colab": {
          "base_uri": "https://localhost:8080/",
          "height": 1000
        },
        "outputId": "5209cb55-f8dc-4f9b-96cb-6bca84b8a617"
      },
      "source": [
        "downloader.download(\"orange fruit\",limit = 20, output_dir = 'images')"
      ],
      "execution_count": null,
      "outputs": [
        {
          "output_type": "stream",
          "text": [
            "\n",
            "\n",
            "[!!]Indexing page: 1\n",
            "\n",
            "[%] Indexed 20 Images on Page 1.\n",
            "\n",
            "===============================================\n",
            "\n",
            "[%] Downloading Image #1 from https://cdn.britannica.com/24/174524-050-A851D3F2/Oranges.jpg\n",
            "[%] File Downloaded !\n",
            "\n",
            "[%] Downloading Image #2 from https://www.rd.com/wp-content/uploads/2017/12/01_oranges_Finally—Here’s-Which-“Orange”-Came-First-the-Color-or-the-Fruit_691064353_Lucky-Business.jpg\n",
            "[!] Issue getting: https://www.rd.com/wp-content/uploads/2017/12/01_oranges_Finally—Here’s-Which-“Orange”-Came-First-the-Color-or-the-Fruit_691064353_Lucky-Business.jpg\n",
            "[!] Error:: 'ascii' codec can't encode character '\\u2014' in position 50: ordinal not in range(128)\n",
            "[%] Downloading Image #2 from https://upload.wikimedia.org/wikipedia/commons/thumb/7/7b/Orange-Whole-%26-Split.jpg/1200px-Orange-Whole-%26-Split.jpg\n",
            "[%] File Downloaded !\n",
            "\n",
            "[%] Downloading Image #3 from https://media.istockphoto.com/photos/orange-picture-id185284489?k=6&amp;m=185284489&amp;s=612x612&amp;w=0&amp;h=x_w4oMnanMTQ5KtSNjSNDdiVaSrlxM4om-3PQTIzFaY=\n",
            "[%] File Downloaded !\n",
            "\n",
            "[%] Downloading Image #4 from https://media.istockphoto.com/photos/orange-fruit-isolated-on-a-white-background-picture-id494037460?k=6&amp;m=494037460&amp;s=612x612&amp;w=0&amp;h=9CJ0RvlNLk3BMJ4ud2JmyQR7t_fUY7bLw8wl4Tk__kY=\n",
            "[%] File Downloaded !\n",
            "\n",
            "[%] Downloading Image #5 from https://cmkt-image-prd.global.ssl.fastly.net/0.1.0/ps/106180/1360/1339/m1/fpnw/wm1/r2lwypowvohywa8afbljesi6k6ekb2hxcyejcv0gr94ewn8ua6oydfoix1e4mpn3-.jpg?1443446216&amp;s=9026f4a4632b1fc5ed7b7efbed4d1a74\n",
            "[!] Issue getting: https://cmkt-image-prd.global.ssl.fastly.net/0.1.0/ps/106180/1360/1339/m1/fpnw/wm1/r2lwypowvohywa8afbljesi6k6ekb2hxcyejcv0gr94ewn8ua6oydfoix1e4mpn3-.jpg?1443446216&amp;s=9026f4a4632b1fc5ed7b7efbed4d1a74\n",
            "[!] Error:: HTTP Error 403: Forbidden\n",
            "[%] Downloading Image #5 from https://media.istockphoto.com/photos/orange-fruit-tangerinecitrus-picture-id486086673?k=6&amp;m=486086673&amp;s=612x612&amp;w=0&amp;h=yi_0Lsvz2XhD2HcN167k79B0mhokGsBIYTHKgsKPV3A=\n",
            "[%] File Downloaded !\n",
            "\n",
            "[%] Downloading Image #6 from http://3.bp.blogspot.com/-tVoQ9O2IU_E/UDzWrWgr2TI/AAAAAAAAIZ8/ojl3vvQ-XV8/s1600/Orange%2BFruits%2BWallpapers%2B1.jpg\n",
            "[%] File Downloaded !\n",
            "\n",
            "[%] Downloading Image #7 from http://images6.fanpop.com/image/photos/34500000/Orange-Fruit-orange-34512881-2260-2175.jpg\n",
            "[%] File Downloaded !\n",
            "\n",
            "[%] Downloading Image #8 from https://www.westfaliafruit.com/wp-content/uploads/2019/01/Oranges.jpg\n",
            "[%] File Downloaded !\n",
            "\n",
            "[%] Downloading Image #9 from https://upload.wikimedia.org/wikipedia/commons/c/c4/Orange-Fruit-Pieces.jpg\n",
            "[%] File Downloaded !\n",
            "\n",
            "[%] Downloading Image #10 from https://media.istockphoto.com/photos/orange-fruit-and-slices-picture-id515369690\n",
            "[%] File Downloaded !\n",
            "\n",
            "[%] Downloading Image #11 from http://www.healthyfoodhouse.com/wp-content/uploads/2013/03/orange-king-of-fruits-featured.jpg\n",
            "[%] File Downloaded !\n",
            "\n",
            "[%] Downloading Image #12 from http://images6.fanpop.com/image/photos/34500000/Orange-Fruit-orange-34512908-3160-2072.jpg\n",
            "[%] File Downloaded !\n",
            "\n",
            "[%] Downloading Image #13 from http://fruitmaven.com/wp-content/uploads/2012/01/Mango-Oranges.jpg\n",
            "[%] File Downloaded !\n",
            "\n",
            "[%] Downloading Image #14 from http://www.naturalnews.com/wp-content/uploads/sites/91/2017/01/Orange-Slices-Fruit-Leaves.jpg\n",
            "[%] File Downloaded !\n",
            "\n",
            "[%] Downloading Image #15 from https://www.gardeningknowhow.com/wp-content/uploads/2015/04/oranges.jpg\n",
            "[%] File Downloaded !\n",
            "\n",
            "[%] Downloading Image #16 from https://5.imimg.com/data5/KM/QP/MY-22954806/orange-500x500.jpg\n",
            "[%] File Downloaded !\n",
            "\n",
            "[%] Downloading Image #17 from http://images6.fanpop.com/image/photos/34500000/Orange-Fruit-orange-34512922-2738-1825.jpg\n",
            "[%] File Downloaded !\n",
            "\n",
            "[%] Downloading Image #18 from https://media.istockphoto.com/photos/orange-and-half-of-fruit-picture-id513986510?k=6&amp;m=513986510&amp;s=612x612&amp;w=0&amp;h=0d8xfuHE4_1nzqi73PfGUvDx9Mo9Bk5kJqpWQ3Yn_6M=\n",
            "[%] File Downloaded !\n",
            "\n",
            "\n",
            "\n",
            "[!!]Indexing page: 2\n",
            "\n",
            "[%] Indexed 35 Images on Page 2.\n",
            "\n",
            "===============================================\n",
            "\n",
            "[%] Downloading Image #19 from https://cdn.britannica.com/24/174524-050-A851D3F2/Oranges.jpg\n",
            "[%] File Downloaded !\n",
            "\n",
            "[%] Downloading Image #20 from https://www.rd.com/wp-content/uploads/2017/12/01_oranges_Finally—Here’s-Which-“Orange”-Came-First-the-Color-or-the-Fruit_691064353_Lucky-Business.jpg\n",
            "[!] Issue getting: https://www.rd.com/wp-content/uploads/2017/12/01_oranges_Finally—Here’s-Which-“Orange”-Came-First-the-Color-or-the-Fruit_691064353_Lucky-Business.jpg\n",
            "[!] Error:: 'ascii' codec can't encode character '\\u2014' in position 50: ordinal not in range(128)\n",
            "[%] Downloading Image #20 from https://upload.wikimedia.org/wikipedia/commons/thumb/7/7b/Orange-Whole-%26-Split.jpg/1200px-Orange-Whole-%26-Split.jpg\n",
            "[%] File Downloaded !\n",
            "\n",
            "\n",
            "\n",
            "[%] Done. Downloaded 20 images.\n",
            "\n",
            "===============================================\n",
            "\n"
          ],
          "name": "stdout"
        }
      ]
    },
    {
      "cell_type": "code",
      "metadata": {
        "id": "tSckTQyMbFLO",
        "colab_type": "code",
        "colab": {}
      },
      "source": [
        "import os\n",
        "import numpy as np\n",
        "from skimage.io import imread\n",
        "from skimage.transform import resize"
      ],
      "execution_count": null,
      "outputs": []
    },
    {
      "cell_type": "code",
      "metadata": {
        "id": "PRZMOxmibRXh",
        "colab_type": "code",
        "colab": {
          "base_uri": "https://localhost:8080/",
          "height": 67
        },
        "outputId": "bbba6854-6bc6-4b6f-faaf-9ed0b0f5a6e8"
      },
      "source": [
        "target = []   \n",
        "flat_data = []   \n",
        "images= []\n",
        "\n",
        "path = '/content/drive/My Drive/images/images/'\n",
        "for dirpath, dirnames, filenames in os.walk(path):\n",
        "  for filename in filenames:\n",
        "    category = dirpath.split('/')[-1]\n",
        "    target.append(category)\n",
        "    img = imread(f'{path}{category}/{filename}')\n",
        "    img_resized = resize(img,(50,50,3))  \n",
        "    flat_data.append(img_resized.flatten())\n",
        "    images.append(img_resized)\n",
        "\n",
        "flat_data = np.array(flat_data)\n",
        "target = np.array(target)\n",
        "images = np.array(images)\n",
        "\n",
        "print(flat_data.shape)\n",
        "print(target.shape)\n",
        "print(images.shape)"
      ],
      "execution_count": null,
      "outputs": [
        {
          "output_type": "stream",
          "text": [
            "(40, 7500)\n",
            "(40,)\n",
            "(40, 50, 50, 3)\n"
          ],
          "name": "stdout"
        }
      ]
    },
    {
      "cell_type": "code",
      "metadata": {
        "id": "jU9BaOnucs37",
        "colab_type": "code",
        "colab": {}
      },
      "source": [
        "import pandas as pd\n",
        "df = pd.DataFrame(flat_data)\n",
        "df['Target'] = target"
      ],
      "execution_count": null,
      "outputs": []
    },
    {
      "cell_type": "code",
      "metadata": {
        "id": "Wuwm6CAPc2px",
        "colab_type": "code",
        "colab": {
          "base_uri": "https://localhost:8080/",
          "height": 328
        },
        "outputId": "c1c316be-ed02-4769-94aa-1c327fa53425"
      },
      "source": [
        "df.head()"
      ],
      "execution_count": null,
      "outputs": [
        {
          "output_type": "execute_result",
          "data": {
            "text/html": [
              "<div>\n",
              "<style scoped>\n",
              "    .dataframe tbody tr th:only-of-type {\n",
              "        vertical-align: middle;\n",
              "    }\n",
              "\n",
              "    .dataframe tbody tr th {\n",
              "        vertical-align: top;\n",
              "    }\n",
              "\n",
              "    .dataframe thead th {\n",
              "        text-align: right;\n",
              "    }\n",
              "</style>\n",
              "<table border=\"1\" class=\"dataframe\">\n",
              "  <thead>\n",
              "    <tr style=\"text-align: right;\">\n",
              "      <th></th>\n",
              "      <th>0</th>\n",
              "      <th>1</th>\n",
              "      <th>2</th>\n",
              "      <th>3</th>\n",
              "      <th>4</th>\n",
              "      <th>5</th>\n",
              "      <th>6</th>\n",
              "      <th>7</th>\n",
              "      <th>8</th>\n",
              "      <th>9</th>\n",
              "      <th>10</th>\n",
              "      <th>11</th>\n",
              "      <th>12</th>\n",
              "      <th>13</th>\n",
              "      <th>14</th>\n",
              "      <th>15</th>\n",
              "      <th>16</th>\n",
              "      <th>17</th>\n",
              "      <th>18</th>\n",
              "      <th>19</th>\n",
              "      <th>20</th>\n",
              "      <th>21</th>\n",
              "      <th>22</th>\n",
              "      <th>23</th>\n",
              "      <th>24</th>\n",
              "      <th>25</th>\n",
              "      <th>26</th>\n",
              "      <th>27</th>\n",
              "      <th>28</th>\n",
              "      <th>29</th>\n",
              "      <th>30</th>\n",
              "      <th>31</th>\n",
              "      <th>32</th>\n",
              "      <th>33</th>\n",
              "      <th>34</th>\n",
              "      <th>35</th>\n",
              "      <th>36</th>\n",
              "      <th>37</th>\n",
              "      <th>38</th>\n",
              "      <th>39</th>\n",
              "      <th>...</th>\n",
              "      <th>7461</th>\n",
              "      <th>7462</th>\n",
              "      <th>7463</th>\n",
              "      <th>7464</th>\n",
              "      <th>7465</th>\n",
              "      <th>7466</th>\n",
              "      <th>7467</th>\n",
              "      <th>7468</th>\n",
              "      <th>7469</th>\n",
              "      <th>7470</th>\n",
              "      <th>7471</th>\n",
              "      <th>7472</th>\n",
              "      <th>7473</th>\n",
              "      <th>7474</th>\n",
              "      <th>7475</th>\n",
              "      <th>7476</th>\n",
              "      <th>7477</th>\n",
              "      <th>7478</th>\n",
              "      <th>7479</th>\n",
              "      <th>7480</th>\n",
              "      <th>7481</th>\n",
              "      <th>7482</th>\n",
              "      <th>7483</th>\n",
              "      <th>7484</th>\n",
              "      <th>7485</th>\n",
              "      <th>7486</th>\n",
              "      <th>7487</th>\n",
              "      <th>7488</th>\n",
              "      <th>7489</th>\n",
              "      <th>7490</th>\n",
              "      <th>7491</th>\n",
              "      <th>7492</th>\n",
              "      <th>7493</th>\n",
              "      <th>7494</th>\n",
              "      <th>7495</th>\n",
              "      <th>7496</th>\n",
              "      <th>7497</th>\n",
              "      <th>7498</th>\n",
              "      <th>7499</th>\n",
              "      <th>Target</th>\n",
              "    </tr>\n",
              "  </thead>\n",
              "  <tbody>\n",
              "    <tr>\n",
              "      <th>0</th>\n",
              "      <td>1.000000</td>\n",
              "      <td>1.000000</td>\n",
              "      <td>1.000000</td>\n",
              "      <td>1.000000</td>\n",
              "      <td>1.000000</td>\n",
              "      <td>1.000000</td>\n",
              "      <td>1.000000</td>\n",
              "      <td>1.000000</td>\n",
              "      <td>1.000000</td>\n",
              "      <td>1.000000</td>\n",
              "      <td>1.000000</td>\n",
              "      <td>1.000000</td>\n",
              "      <td>1.000000</td>\n",
              "      <td>1.000000</td>\n",
              "      <td>1.000000</td>\n",
              "      <td>1.000000</td>\n",
              "      <td>1.000000</td>\n",
              "      <td>1.000000</td>\n",
              "      <td>1.000000</td>\n",
              "      <td>1.000000</td>\n",
              "      <td>1.000000</td>\n",
              "      <td>1.000000</td>\n",
              "      <td>1.000000</td>\n",
              "      <td>1.000000</td>\n",
              "      <td>1.000000</td>\n",
              "      <td>1.000000</td>\n",
              "      <td>1.000000</td>\n",
              "      <td>1.000000</td>\n",
              "      <td>1.000000</td>\n",
              "      <td>1.000000</td>\n",
              "      <td>1.000000</td>\n",
              "      <td>1.000000</td>\n",
              "      <td>1.000000</td>\n",
              "      <td>1.000000</td>\n",
              "      <td>1.000000</td>\n",
              "      <td>1.000000</td>\n",
              "      <td>1.000000</td>\n",
              "      <td>1.000000</td>\n",
              "      <td>1.000000</td>\n",
              "      <td>1.000000</td>\n",
              "      <td>...</td>\n",
              "      <td>0.996078</td>\n",
              "      <td>0.996078</td>\n",
              "      <td>0.996078</td>\n",
              "      <td>1.000000</td>\n",
              "      <td>1.000000</td>\n",
              "      <td>1.000000</td>\n",
              "      <td>1.000000</td>\n",
              "      <td>1.000000</td>\n",
              "      <td>1.000000</td>\n",
              "      <td>1.000000</td>\n",
              "      <td>1.000000</td>\n",
              "      <td>1.000000</td>\n",
              "      <td>1.000000</td>\n",
              "      <td>1.000000</td>\n",
              "      <td>1.000000</td>\n",
              "      <td>1.000000</td>\n",
              "      <td>1.000000</td>\n",
              "      <td>1.000000</td>\n",
              "      <td>1.000000</td>\n",
              "      <td>1.000000</td>\n",
              "      <td>1.000000</td>\n",
              "      <td>1.000000</td>\n",
              "      <td>1.000000</td>\n",
              "      <td>1.000000</td>\n",
              "      <td>1.000000</td>\n",
              "      <td>1.000000</td>\n",
              "      <td>1.000000</td>\n",
              "      <td>1.000000</td>\n",
              "      <td>1.000000</td>\n",
              "      <td>1.000000</td>\n",
              "      <td>1.000000</td>\n",
              "      <td>1.000000</td>\n",
              "      <td>1.000000</td>\n",
              "      <td>1.000000</td>\n",
              "      <td>1.000000</td>\n",
              "      <td>1.000000</td>\n",
              "      <td>1.000000</td>\n",
              "      <td>1.000000</td>\n",
              "      <td>1.000000</td>\n",
              "      <td>apple fruit</td>\n",
              "    </tr>\n",
              "    <tr>\n",
              "      <th>1</th>\n",
              "      <td>0.933333</td>\n",
              "      <td>0.933333</td>\n",
              "      <td>0.941176</td>\n",
              "      <td>0.941176</td>\n",
              "      <td>0.941176</td>\n",
              "      <td>0.949020</td>\n",
              "      <td>0.945098</td>\n",
              "      <td>0.945098</td>\n",
              "      <td>0.952941</td>\n",
              "      <td>0.952941</td>\n",
              "      <td>0.952941</td>\n",
              "      <td>0.952941</td>\n",
              "      <td>0.960784</td>\n",
              "      <td>0.960784</td>\n",
              "      <td>0.960784</td>\n",
              "      <td>0.964706</td>\n",
              "      <td>0.964706</td>\n",
              "      <td>0.964706</td>\n",
              "      <td>0.968627</td>\n",
              "      <td>0.968627</td>\n",
              "      <td>0.968627</td>\n",
              "      <td>0.972549</td>\n",
              "      <td>0.972549</td>\n",
              "      <td>0.972549</td>\n",
              "      <td>0.972549</td>\n",
              "      <td>0.972549</td>\n",
              "      <td>0.972549</td>\n",
              "      <td>0.976471</td>\n",
              "      <td>0.976471</td>\n",
              "      <td>0.976471</td>\n",
              "      <td>0.980392</td>\n",
              "      <td>0.980392</td>\n",
              "      <td>0.980392</td>\n",
              "      <td>0.980392</td>\n",
              "      <td>0.980392</td>\n",
              "      <td>0.980392</td>\n",
              "      <td>0.980392</td>\n",
              "      <td>0.980392</td>\n",
              "      <td>0.980392</td>\n",
              "      <td>0.984314</td>\n",
              "      <td>...</td>\n",
              "      <td>0.745098</td>\n",
              "      <td>0.694118</td>\n",
              "      <td>0.725490</td>\n",
              "      <td>0.815686</td>\n",
              "      <td>0.769438</td>\n",
              "      <td>0.784314</td>\n",
              "      <td>0.901961</td>\n",
              "      <td>0.860849</td>\n",
              "      <td>0.858824</td>\n",
              "      <td>0.909804</td>\n",
              "      <td>0.870588</td>\n",
              "      <td>0.866667</td>\n",
              "      <td>0.905882</td>\n",
              "      <td>0.866667</td>\n",
              "      <td>0.862745</td>\n",
              "      <td>0.898039</td>\n",
              "      <td>0.858824</td>\n",
              "      <td>0.858824</td>\n",
              "      <td>0.890196</td>\n",
              "      <td>0.850980</td>\n",
              "      <td>0.850980</td>\n",
              "      <td>0.874510</td>\n",
              "      <td>0.835294</td>\n",
              "      <td>0.840863</td>\n",
              "      <td>0.862745</td>\n",
              "      <td>0.823529</td>\n",
              "      <td>0.831373</td>\n",
              "      <td>0.847059</td>\n",
              "      <td>0.815686</td>\n",
              "      <td>0.827451</td>\n",
              "      <td>0.831373</td>\n",
              "      <td>0.807843</td>\n",
              "      <td>0.819608</td>\n",
              "      <td>0.819608</td>\n",
              "      <td>0.796078</td>\n",
              "      <td>0.811765</td>\n",
              "      <td>0.811765</td>\n",
              "      <td>0.788235</td>\n",
              "      <td>0.803922</td>\n",
              "      <td>apple fruit</td>\n",
              "    </tr>\n",
              "    <tr>\n",
              "      <th>2</th>\n",
              "      <td>1.000000</td>\n",
              "      <td>1.000000</td>\n",
              "      <td>1.000000</td>\n",
              "      <td>1.000000</td>\n",
              "      <td>1.000000</td>\n",
              "      <td>1.000000</td>\n",
              "      <td>1.000000</td>\n",
              "      <td>1.000000</td>\n",
              "      <td>1.000000</td>\n",
              "      <td>1.000000</td>\n",
              "      <td>1.000000</td>\n",
              "      <td>1.000000</td>\n",
              "      <td>1.000000</td>\n",
              "      <td>1.000000</td>\n",
              "      <td>1.000000</td>\n",
              "      <td>1.000000</td>\n",
              "      <td>1.000000</td>\n",
              "      <td>1.000000</td>\n",
              "      <td>1.000000</td>\n",
              "      <td>1.000000</td>\n",
              "      <td>1.000000</td>\n",
              "      <td>1.000000</td>\n",
              "      <td>1.000000</td>\n",
              "      <td>1.000000</td>\n",
              "      <td>1.000000</td>\n",
              "      <td>1.000000</td>\n",
              "      <td>1.000000</td>\n",
              "      <td>1.000000</td>\n",
              "      <td>1.000000</td>\n",
              "      <td>1.000000</td>\n",
              "      <td>1.000000</td>\n",
              "      <td>1.000000</td>\n",
              "      <td>1.000000</td>\n",
              "      <td>1.000000</td>\n",
              "      <td>1.000000</td>\n",
              "      <td>1.000000</td>\n",
              "      <td>0.996078</td>\n",
              "      <td>0.996078</td>\n",
              "      <td>0.996078</td>\n",
              "      <td>0.996078</td>\n",
              "      <td>...</td>\n",
              "      <td>0.996078</td>\n",
              "      <td>0.996078</td>\n",
              "      <td>0.996078</td>\n",
              "      <td>0.996078</td>\n",
              "      <td>0.996078</td>\n",
              "      <td>0.996078</td>\n",
              "      <td>1.000000</td>\n",
              "      <td>1.000000</td>\n",
              "      <td>1.000000</td>\n",
              "      <td>1.000000</td>\n",
              "      <td>1.000000</td>\n",
              "      <td>1.000000</td>\n",
              "      <td>1.000000</td>\n",
              "      <td>1.000000</td>\n",
              "      <td>1.000000</td>\n",
              "      <td>1.000000</td>\n",
              "      <td>1.000000</td>\n",
              "      <td>1.000000</td>\n",
              "      <td>1.000000</td>\n",
              "      <td>1.000000</td>\n",
              "      <td>1.000000</td>\n",
              "      <td>1.000000</td>\n",
              "      <td>1.000000</td>\n",
              "      <td>1.000000</td>\n",
              "      <td>1.000000</td>\n",
              "      <td>1.000000</td>\n",
              "      <td>1.000000</td>\n",
              "      <td>1.000000</td>\n",
              "      <td>1.000000</td>\n",
              "      <td>1.000000</td>\n",
              "      <td>1.000000</td>\n",
              "      <td>1.000000</td>\n",
              "      <td>1.000000</td>\n",
              "      <td>1.000000</td>\n",
              "      <td>1.000000</td>\n",
              "      <td>1.000000</td>\n",
              "      <td>1.000000</td>\n",
              "      <td>1.000000</td>\n",
              "      <td>1.000000</td>\n",
              "      <td>apple fruit</td>\n",
              "    </tr>\n",
              "    <tr>\n",
              "      <th>3</th>\n",
              "      <td>0.996078</td>\n",
              "      <td>0.996078</td>\n",
              "      <td>0.996078</td>\n",
              "      <td>0.996078</td>\n",
              "      <td>0.996078</td>\n",
              "      <td>0.996078</td>\n",
              "      <td>0.996078</td>\n",
              "      <td>0.996078</td>\n",
              "      <td>0.996078</td>\n",
              "      <td>0.995951</td>\n",
              "      <td>0.992157</td>\n",
              "      <td>0.992157</td>\n",
              "      <td>0.992157</td>\n",
              "      <td>0.991451</td>\n",
              "      <td>0.991451</td>\n",
              "      <td>0.991451</td>\n",
              "      <td>0.979686</td>\n",
              "      <td>0.983509</td>\n",
              "      <td>0.979686</td>\n",
              "      <td>0.952314</td>\n",
              "      <td>0.955013</td>\n",
              "      <td>0.920400</td>\n",
              "      <td>0.799851</td>\n",
              "      <td>0.798894</td>\n",
              "      <td>0.861333</td>\n",
              "      <td>0.644689</td>\n",
              "      <td>0.642527</td>\n",
              "      <td>0.836863</td>\n",
              "      <td>0.601020</td>\n",
              "      <td>0.616706</td>\n",
              "      <td>0.768314</td>\n",
              "      <td>0.435373</td>\n",
              "      <td>0.452863</td>\n",
              "      <td>0.750824</td>\n",
              "      <td>0.340093</td>\n",
              "      <td>0.359765</td>\n",
              "      <td>0.755804</td>\n",
              "      <td>0.309490</td>\n",
              "      <td>0.327137</td>\n",
              "      <td>0.746838</td>\n",
              "      <td>...</td>\n",
              "      <td>0.976471</td>\n",
              "      <td>0.890902</td>\n",
              "      <td>0.933333</td>\n",
              "      <td>0.976471</td>\n",
              "      <td>0.898039</td>\n",
              "      <td>0.937255</td>\n",
              "      <td>0.972549</td>\n",
              "      <td>0.905882</td>\n",
              "      <td>0.941176</td>\n",
              "      <td>0.976471</td>\n",
              "      <td>0.894118</td>\n",
              "      <td>0.933333</td>\n",
              "      <td>0.976471</td>\n",
              "      <td>0.886275</td>\n",
              "      <td>0.925490</td>\n",
              "      <td>0.976471</td>\n",
              "      <td>0.890196</td>\n",
              "      <td>0.925490</td>\n",
              "      <td>0.976471</td>\n",
              "      <td>0.890196</td>\n",
              "      <td>0.925490</td>\n",
              "      <td>0.976471</td>\n",
              "      <td>0.886275</td>\n",
              "      <td>0.925490</td>\n",
              "      <td>0.976471</td>\n",
              "      <td>0.886275</td>\n",
              "      <td>0.925490</td>\n",
              "      <td>0.976471</td>\n",
              "      <td>0.886275</td>\n",
              "      <td>0.925490</td>\n",
              "      <td>0.976471</td>\n",
              "      <td>0.886275</td>\n",
              "      <td>0.925490</td>\n",
              "      <td>0.976471</td>\n",
              "      <td>0.886275</td>\n",
              "      <td>0.925490</td>\n",
              "      <td>0.976471</td>\n",
              "      <td>0.886275</td>\n",
              "      <td>0.925490</td>\n",
              "      <td>apple fruit</td>\n",
              "    </tr>\n",
              "    <tr>\n",
              "      <th>4</th>\n",
              "      <td>0.996078</td>\n",
              "      <td>0.996078</td>\n",
              "      <td>0.996078</td>\n",
              "      <td>0.996078</td>\n",
              "      <td>0.996078</td>\n",
              "      <td>0.996078</td>\n",
              "      <td>0.996078</td>\n",
              "      <td>0.996078</td>\n",
              "      <td>0.996078</td>\n",
              "      <td>0.996078</td>\n",
              "      <td>0.996078</td>\n",
              "      <td>0.996078</td>\n",
              "      <td>0.996078</td>\n",
              "      <td>0.996078</td>\n",
              "      <td>0.996078</td>\n",
              "      <td>0.996078</td>\n",
              "      <td>0.996078</td>\n",
              "      <td>0.996078</td>\n",
              "      <td>0.996078</td>\n",
              "      <td>0.996078</td>\n",
              "      <td>0.996078</td>\n",
              "      <td>0.996078</td>\n",
              "      <td>0.996078</td>\n",
              "      <td>0.996078</td>\n",
              "      <td>0.996078</td>\n",
              "      <td>0.996078</td>\n",
              "      <td>0.996078</td>\n",
              "      <td>0.996078</td>\n",
              "      <td>0.996078</td>\n",
              "      <td>0.996078</td>\n",
              "      <td>0.996078</td>\n",
              "      <td>0.996078</td>\n",
              "      <td>0.996078</td>\n",
              "      <td>0.996078</td>\n",
              "      <td>0.996078</td>\n",
              "      <td>0.996078</td>\n",
              "      <td>0.996078</td>\n",
              "      <td>0.996078</td>\n",
              "      <td>0.996078</td>\n",
              "      <td>0.996078</td>\n",
              "      <td>...</td>\n",
              "      <td>0.996078</td>\n",
              "      <td>0.996078</td>\n",
              "      <td>0.996078</td>\n",
              "      <td>0.996078</td>\n",
              "      <td>0.996078</td>\n",
              "      <td>0.996078</td>\n",
              "      <td>0.996078</td>\n",
              "      <td>0.996078</td>\n",
              "      <td>0.996078</td>\n",
              "      <td>0.996078</td>\n",
              "      <td>0.996078</td>\n",
              "      <td>0.996078</td>\n",
              "      <td>0.996078</td>\n",
              "      <td>0.996078</td>\n",
              "      <td>0.996078</td>\n",
              "      <td>0.996078</td>\n",
              "      <td>0.996078</td>\n",
              "      <td>0.996078</td>\n",
              "      <td>0.996078</td>\n",
              "      <td>0.996078</td>\n",
              "      <td>0.996078</td>\n",
              "      <td>0.996078</td>\n",
              "      <td>0.996078</td>\n",
              "      <td>0.996078</td>\n",
              "      <td>0.996078</td>\n",
              "      <td>0.996078</td>\n",
              "      <td>0.996078</td>\n",
              "      <td>0.996078</td>\n",
              "      <td>0.996078</td>\n",
              "      <td>0.996078</td>\n",
              "      <td>0.996078</td>\n",
              "      <td>0.996078</td>\n",
              "      <td>0.996078</td>\n",
              "      <td>0.996078</td>\n",
              "      <td>0.996078</td>\n",
              "      <td>0.996078</td>\n",
              "      <td>0.996078</td>\n",
              "      <td>0.996078</td>\n",
              "      <td>0.996078</td>\n",
              "      <td>apple fruit</td>\n",
              "    </tr>\n",
              "  </tbody>\n",
              "</table>\n",
              "<p>5 rows × 7501 columns</p>\n",
              "</div>"
            ],
            "text/plain": [
              "          0         1         2  ...      7498      7499       Target\n",
              "0  1.000000  1.000000  1.000000  ...  1.000000  1.000000  apple fruit\n",
              "1  0.933333  0.933333  0.941176  ...  0.788235  0.803922  apple fruit\n",
              "2  1.000000  1.000000  1.000000  ...  1.000000  1.000000  apple fruit\n",
              "3  0.996078  0.996078  0.996078  ...  0.886275  0.925490  apple fruit\n",
              "4  0.996078  0.996078  0.996078  ...  0.996078  0.996078  apple fruit\n",
              "\n",
              "[5 rows x 7501 columns]"
            ]
          },
          "metadata": {
            "tags": []
          },
          "execution_count": 4
        }
      ]
    },
    {
      "cell_type": "code",
      "metadata": {
        "id": "lvJ6NnFtc9Uv",
        "colab_type": "code",
        "colab": {}
      },
      "source": [
        "x=df.drop(columns=['Target'])\n",
        "y=df['Target']"
      ],
      "execution_count": null,
      "outputs": []
    },
    {
      "cell_type": "code",
      "metadata": {
        "id": "g1HpUPxyeQXJ",
        "colab_type": "code",
        "colab": {
          "base_uri": "https://localhost:8080/",
          "height": 34
        },
        "outputId": "7b832a82-741e-4763-a148-10c2b460f7f8"
      },
      "source": [
        "from sklearn.model_selection import train_test_split\n",
        "x_train,x_test,y_train,y_test=train_test_split(x,y)\n",
        "x_train.shape,x_test.shape,y_train.shape,y_test.shape"
      ],
      "execution_count": null,
      "outputs": [
        {
          "output_type": "execute_result",
          "data": {
            "text/plain": [
              "((30, 7500), (10, 7500), (30,), (10,))"
            ]
          },
          "metadata": {
            "tags": []
          },
          "execution_count": 6
        }
      ]
    },
    {
      "cell_type": "code",
      "metadata": {
        "id": "IqE9jOnVfa-6",
        "colab_type": "code",
        "colab": {
          "base_uri": "https://localhost:8080/",
          "height": 67
        },
        "outputId": "4c13db6d-0f3c-43ce-df69-e22c9ffa36e8"
      },
      "source": [
        "from sklearn.neighbors import KNeighborsClassifier\n",
        "model=KNeighborsClassifier(n_neighbors=6)\n",
        "model.fit(x_train,y_train)\n",
        "pred=model.predict(x_test)\n",
        "pred"
      ],
      "execution_count": null,
      "outputs": [
        {
          "output_type": "execute_result",
          "data": {
            "text/plain": [
              "array(['orange fruit', 'orange fruit', 'orange fruit', 'apple fruit',\n",
              "       'orange fruit', 'orange fruit', 'apple fruit', 'apple fruit',\n",
              "       'apple fruit', 'apple fruit'], dtype=object)"
            ]
          },
          "metadata": {
            "tags": []
          },
          "execution_count": 7
        }
      ]
    },
    {
      "cell_type": "code",
      "metadata": {
        "id": "xZVcYVIHftd4",
        "colab_type": "code",
        "colab": {
          "base_uri": "https://localhost:8080/",
          "height": 202
        },
        "outputId": "13798de3-832a-4af4-a45e-05780dd242ea"
      },
      "source": [
        "y_test"
      ],
      "execution_count": null,
      "outputs": [
        {
          "output_type": "execute_result",
          "data": {
            "text/plain": [
              "15     apple fruit\n",
              "22    orange fruit\n",
              "26    orange fruit\n",
              "8      apple fruit\n",
              "18     apple fruit\n",
              "34    orange fruit\n",
              "7      apple fruit\n",
              "4      apple fruit\n",
              "11     apple fruit\n",
              "14     apple fruit\n",
              "Name: Target, dtype: object"
            ]
          },
          "metadata": {
            "tags": []
          },
          "execution_count": 8
        }
      ]
    },
    {
      "cell_type": "code",
      "metadata": {
        "id": "t61CwT2cg-_5",
        "colab_type": "code",
        "colab": {
          "base_uri": "https://localhost:8080/",
          "height": 168
        },
        "outputId": "263f6df8-c3f8-4727-93e5-5618a9986495"
      },
      "source": [
        "from sklearn.metrics import classification_report\n",
        "print(classification_report(y_test,pred))"
      ],
      "execution_count": null,
      "outputs": [
        {
          "output_type": "stream",
          "text": [
            "              precision    recall  f1-score   support\n",
            "\n",
            " apple fruit       1.00      0.71      0.83         7\n",
            "orange fruit       0.60      1.00      0.75         3\n",
            "\n",
            "    accuracy                           0.80        10\n",
            "   macro avg       0.80      0.86      0.79        10\n",
            "weighted avg       0.88      0.80      0.81        10\n",
            "\n"
          ],
          "name": "stdout"
        }
      ]
    },
    {
      "cell_type": "code",
      "metadata": {
        "id": "ecIbFm8Mhuc9",
        "colab_type": "code",
        "colab": {
          "base_uri": "https://localhost:8080/",
          "height": 67
        },
        "outputId": "c2fedc11-0807-4791-e9fb-456fd8cc476b"
      },
      "source": [
        "from sklearn.linear_model import LogisticRegression as LR\n",
        "m=LR()\n",
        "m.fit(x_train,y_train)\n",
        "pred=m.predict(x_test)\n",
        "pred"
      ],
      "execution_count": null,
      "outputs": [
        {
          "output_type": "execute_result",
          "data": {
            "text/plain": [
              "array(['orange fruit', 'orange fruit', 'orange fruit', 'apple fruit',\n",
              "       'apple fruit', 'orange fruit', 'apple fruit', 'apple fruit',\n",
              "       'apple fruit', 'apple fruit'], dtype=object)"
            ]
          },
          "metadata": {
            "tags": []
          },
          "execution_count": 10
        }
      ]
    },
    {
      "cell_type": "code",
      "metadata": {
        "id": "92YbaPuyh1a4",
        "colab_type": "code",
        "colab": {
          "base_uri": "https://localhost:8080/",
          "height": 168
        },
        "outputId": "bab5b4ab-a95a-4dd6-8b62-f21669117055"
      },
      "source": [
        "from sklearn.metrics import classification_report\n",
        "print(classification_report(y_test,pred))"
      ],
      "execution_count": null,
      "outputs": [
        {
          "output_type": "stream",
          "text": [
            "              precision    recall  f1-score   support\n",
            "\n",
            " apple fruit       1.00      0.86      0.92         7\n",
            "orange fruit       0.75      1.00      0.86         3\n",
            "\n",
            "    accuracy                           0.90        10\n",
            "   macro avg       0.88      0.93      0.89        10\n",
            "weighted avg       0.93      0.90      0.90        10\n",
            "\n"
          ],
          "name": "stdout"
        }
      ]
    },
    {
      "cell_type": "code",
      "metadata": {
        "id": "BgXuTPp9iGB3",
        "colab_type": "code",
        "colab": {}
      },
      "source": [
        "import cv2\n",
        "import numpy as np\n",
        "from skimage.io import imread\n",
        "import matplotlib.pyplot as plt"
      ],
      "execution_count": 12,
      "outputs": []
    },
    {
      "cell_type": "code",
      "metadata": {
        "id": "Vwd9D6kUctAw",
        "colab_type": "code",
        "colab": {
          "base_uri": "https://localhost:8080/",
          "height": 319
        },
        "outputId": "7da3cf1e-98fa-47d7-93c7-945e70af1a18"
      },
      "source": [
        "a=imread('https://image.shutterstock.com/image-photo/red-apple-isolated-on-white-260nw-1498042211.jpg')\n",
        "print(a.shape)\n",
        "plt.imshow(a)\n",
        "new=[]\n",
        "imgresized = resize(a,(50,50,3))\n",
        "new.append(imgresized.flatten())\n",
        "new"
      ],
      "execution_count": 13,
      "outputs": [
        {
          "output_type": "stream",
          "text": [
            "(280, 277, 3)\n"
          ],
          "name": "stdout"
        },
        {
          "output_type": "execute_result",
          "data": {
            "text/plain": [
              "[array([0.99607843, 0.99607843, 0.99607843, ..., 0.99607843, 0.99607843,\n",
              "        0.99607843])]"
            ]
          },
          "metadata": {
            "tags": []
          },
          "execution_count": 13
        },
        {
          "output_type": "display_data",
          "data": {
            "image/png": "[encoded data removed]",
            "text/plain": [
              "<Figure size 432x288 with 1 Axes>"
            ]
          },
          "metadata": {
            "tags": [],
            "needs_background": "light"
          }
        }
      ]
    },
    {
      "cell_type": "code",
      "metadata": {
        "id": "9dYg2qyUdLg8",
        "colab_type": "code",
        "colab": {}
      },
      "source": [
        "b=np.array(new)"
      ],
      "execution_count": 14,
      "outputs": []
    },
    {
      "cell_type": "code",
      "metadata": {
        "id": "8Nd8JXdddNuW",
        "colab_type": "code",
        "colab": {
          "base_uri": "https://localhost:8080/",
          "height": 34
        },
        "outputId": "22eb4d8b-6483-4f64-a02c-7fb9aae864be"
      },
      "source": [
        "p=model.predict(b)    #IT SHUD PREDICT apple \n",
        "p"
      ],
      "execution_count": 15,
      "outputs": [
        {
          "output_type": "execute_result",
          "data": {
            "text/plain": [
              "array(['apple fruit'], dtype=object)"
            ]
          },
          "metadata": {
            "tags": []
          },
          "execution_count": 15
        }
      ]
    }
  ]
}